{
 "cells": [
  {
   "cell_type": "markdown",
   "metadata": {},
   "source": [
    "# Optimización del despacho de buses en el servicio de transporte público de Monteria\n",
    "\n",
    "Este cuaderno presenta un modelo de flujo en redes basado en programación lineal entera mixta (MILP) para despachar una flota de buses. El objetivo es satisfacer la demanda de pasajeros a lo largo de una ruta con dos cabeceras y un patio, mientras se minimiza la demanda no satisfecha.\n",
    "\n",
    "La operación se modela como un flujo en una red espacio-temporal, donde los nodos representan ubicaciones en momentos específicos y los arcos representan posibles movimientos de los buses.\n",
    "\n",
    "---\n"
   ]
  },
  {
   "cell_type": "code",
   "execution_count": 28,
   "metadata": {},
   "outputs": [],
   "source": [
    "import gurobipy as gp\n",
    "from gurobipy import GRB\n",
    "import pandas as pd\n",
    "import numpy as np\n",
    "from datetime import datetime, timedelta"
   ]
  },
  {
   "cell_type": "markdown",
   "metadata": {},
   "source": [
    "## Parámetros iniciales\n",
    "Aquí se definen los parámetros iniciales del modelo, incluyendo la capacidad del bus, el intervalo de tiempo entre despachos, y las ubicaciones posibles (cabeceras y patio).\n",
    "1. **Capacidad del bus (C):** Cada bus puede transportar hasta 10 pasajeros.\n",
    "2. **Intervalo de tiempo (Δt):** El tiempo está dividido en intervalos de 10 minutos.\n",
    "3. **Ubicaciones (L):** Los buses operan entre dos cabeceras (Cabecera 1, Cabecera 2) y un patio.\n",
    "4. **Demanda:** Se genera una demanda para cada cabecera en cada intervalo de tiempo."
   ]
  },
  {
   "cell_type": "code",
   "execution_count": 29,
   "metadata": {},
   "outputs": [],
   "source": [
    "# Parámetros iniciales\n",
    "C = 10  # Capacidad del bus\n",
    "delta_t = 10  # Intervalo de tiempo en minutos\n",
    "hora_inicio = datetime.strptime(\"05:00:00\", \"%H:%M:%S\")\n",
    "hora_fin = datetime.strptime(\"21:00:00\", \"%H:%M:%S\")\n",
    "intervalos = int((hora_fin - hora_inicio).total_seconds() // (delta_t * 60))  # Total de intervalos\n",
    "T = list(range(intervalos))  # Índices de intervalos de tiempo\n",
    "B = 5  # Número total de buses\n",
    "L = ['Cabecera1', 'Cabecera2', 'Patio']  # Ubicaciones"
   ]
  },
  {
   "cell_type": "markdown",
   "metadata": {},
   "source": [
    "## Tiempos de viaje y creación de arcos\n",
    "Los tiempos de viaje entre cabeceras y entre intervalos consecutivos se definen aquí. Además, se crean los arcos que representan las posibles acciones de los buses en el tiempo-espacio (espera, viaje entre cabeceras, inicio y fin en el patio)."
   ]
  },
  {
   "cell_type": "code",
   "execution_count": 30,
   "metadata": {},
   "outputs": [],
   "source": [
    "# Tiempos de viaje en intervalos\n",
    "T_12 = int(round(30 / delta_t))  # Intervalos para Cabecera1 -> Cabecera2\n",
    "T_21 = int(round(33 / delta_t))  # Intervalos para Cabecera2 -> Cabecera1\n",
    "\n",
    "# Crear lista de arcos\n",
    "A_arcs = []\n",
    "\n",
    "# Arcos de espera en la misma ubicación\n",
    "for l in L:\n",
    "    for t in T[:-1]:  # No podemos esperar en el último intervalo\n",
    "        A_arcs.append((l, t, l, t+1))\n",
    "\n",
    "# Arcos de viaje entre cabeceras\n",
    "for t in T:\n",
    "    if t + T_12 < len(T):\n",
    "        A_arcs.append(('Cabecera1', t, 'Cabecera2', t + T_12))\n",
    "    if t + T_21 < len(T):\n",
    "        A_arcs.append(('Cabecera2', t, 'Cabecera1', t + T_21))\n",
    "\n",
    "# Arcos de inicio desde el patio (suponemos tiempo de traslado cero)\n",
    "for t in T:\n",
    "    A_arcs.append(('Patio', t, 'Cabecera1', t))\n",
    "    A_arcs.append(('Patio', t, 'Cabecera2', t))\n",
    "\n",
    "# Arcos de retorno al patio al finalizar operación\n",
    "for t in T:\n",
    "    A_arcs.append(('Cabecera1', t, 'Patio', t))\n",
    "    A_arcs.append(('Cabecera2', t, 'Patio', t))\n"
   ]
  },
  {
   "cell_type": "markdown",
   "metadata": {},
   "source": [
    "## Generación de demanda pronosticada\n",
    "La demanda para cada cabecera en cada intervalo de tiempo es generada utilizando una distribución de Poisson(en este caso, mas adelante se puede incorporar el modelo de predicción de Machine Learning). Esto simula la llegada de pasajeros a las estaciones.\n"
   ]
  },
  {
   "cell_type": "code",
   "execution_count": 31,
   "metadata": {},
   "outputs": [],
   "source": [
    "# Demanda pronosticada en cada cabecera\n",
    "demanda_predicha_1 = np.random.poisson(lam=10, size=intervalos)\n",
    "demanda_predicha_2 = np.random.poisson(lam=12, size=intervalos)\n",
    "\n",
    "# Crear DataFrame de demanda\n",
    "demanda_df = pd.DataFrame({\n",
    "    'Tiempo': T,\n",
    "    'Demanda_Cabecera1': demanda_predicha_1[:intervalos],\n",
    "    'Demanda_Cabecera2': demanda_predicha_2[:intervalos]\n",
    "})"
   ]
  },
  {
   "cell_type": "markdown",
   "metadata": {},
   "source": [
    "## Definición del modelo y variables de decisión\n",
    "Se define el modelo, donde las variables de decisión indican si un bus se mueve de una ubicación a otra en un intervalo de tiempo. También se introduce una variable continua para modelar la demanda no satisfecha.\n"
   ]
  },
  {
   "cell_type": "code",
   "execution_count": 32,
   "metadata": {},
   "outputs": [],
   "source": [
    "# Crear el modelo\n",
    "m = gp.Model(\"DespachoBuses\")\n",
    "\n",
    "# Conjunto de buses\n",
    "K = list(range(B))\n",
    "\n",
    "# Variables de decisión\n",
    "x = m.addVars(\n",
    "    K,\n",
    "    A_arcs,\n",
    "    vtype=GRB.BINARY,\n",
    "    name=\"x\"\n",
    ")\n",
    "y = m.addVars(L[:2], T, vtype=GRB.CONTINUOUS, name=\"y\")  # Solo en cabeceras\n"
   ]
  },
  {
   "cell_type": "markdown",
   "metadata": {},
   "source": [
    "## Función objetivo: minimizar la demanda no satisfecha\n",
    "La función objetivo busca minimizar la cantidad total de demanda no satisfecha en ambas cabeceras.\n"
   ]
  },
  {
   "cell_type": "code",
   "execution_count": 33,
   "metadata": {},
   "outputs": [],
   "source": [
    "# Función objetivo: Minimizar demanda no satisfecha\n",
    "m.setObjective(gp.quicksum(y[l, t] for l in L[:2] for t in T), GRB.MINIMIZE)\n",
    "\n",
    "# Definir nodos de inicio y fin para cada bus\n",
    "nodo_inicio_bus = {}\n",
    "nodo_fin_bus = {}\n",
    "for k in K:\n",
    "    nodo_inicio_bus[k] = ('Patio', 0)  # Inicia en el patio en el primer intervalo\n",
    "    nodo_fin_bus[k] = ('Patio', intervalos - 1)  # Termina en el patio en el último intervalo"
   ]
  },
  {
   "cell_type": "markdown",
   "metadata": {},
   "source": [
    "### Restricciones de satisfacción de la demanda\n",
    "Cada cabecera debe cubrir la demanda de pasajeros en cada intervalo de tiempo. La capacidad total de los buses más la demanda no satisfecha debe ser mayor o igual a la demanda pronosticada.\n"
   ]
  },
  {
   "cell_type": "code",
   "execution_count": 34,
   "metadata": {},
   "outputs": [],
   "source": [
    "for l in L[:2]:  # Solo para cabeceras\n",
    "    for t in T:\n",
    "        demanda = demanda_df.loc[t, 'Demanda_Cabecera1'] if l == 'Cabecera1' else demanda_df.loc[t, 'Demanda_Cabecera2']\n",
    "        flujo_salida = gp.quicksum(\n",
    "            C * x[k, l, t, l_to, t_to]\n",
    "            for k in K\n",
    "            for (l_from, t_from, l_to, t_to) in A_arcs\n",
    "            if l_from == l and t_from == t\n",
    "        )\n",
    "        m.addConstr(\n",
    "            flujo_salida + y[l, t] >= demanda,\n",
    "            name=f\"Demanda_{l}_{t}\"\n",
    "        )"
   ]
  },
  {
   "cell_type": "markdown",
   "metadata": {},
   "source": [
    "### Restricciones de conservación de flujo\n",
    "Los flujos entrantes y salientes en cada nodo (ubicación y tiempo) deben mantenerse balanceados. Esto asegura que los buses transiten correctamente a lo largo de la red.\n"
   ]
  },
  {
   "cell_type": "code",
   "execution_count": 35,
   "metadata": {},
   "outputs": [],
   "source": [
    "for k in K:\n",
    "    for l in L:\n",
    "        for t in T:\n",
    "            nodo_actual = (l, t)\n",
    "            flujo_entrada = gp.quicksum(\n",
    "                x[k, l_prev, t_prev, l, t]\n",
    "                for (l_prev, t_prev, l_curr, t_curr) in A_arcs\n",
    "                if l_curr == l and t_curr == t\n",
    "            )\n",
    "            flujo_salida = gp.quicksum(\n",
    "                x[k, l, t, l_next, t_next]\n",
    "                for (l_curr, t_curr, l_next, t_next) in A_arcs\n",
    "                if l_curr == l and t_curr == t\n",
    "            )\n",
    "            entrada_nodo_inicio = 1 if nodo_actual == nodo_inicio_bus[k] else 0\n",
    "            salida_nodo_fin = 1 if nodo_actual == nodo_fin_bus[k] else 0\n",
    "            m.addConstr(\n",
    "                flujo_entrada + entrada_nodo_inicio == flujo_salida + salida_nodo_fin,\n",
    "                name=f\"Flujo_{k}_{l}_{t}\"\n",
    "            )\n"
   ]
  },
  {
   "cell_type": "markdown",
   "metadata": {},
   "source": [
    "### Restricciones de inicio y fin de los buses\n",
    "Cada bus debe iniciar su operación en el patio en el primer intervalo de tiempo y regresar al patio al finalizar la operación.\n"
   ]
  },
  {
   "cell_type": "code",
   "execution_count": 36,
   "metadata": {},
   "outputs": [],
   "source": [
    "# Restricciones de inicio de los buses\n",
    "for k in K:\n",
    "    nodo_inicio = nodo_inicio_bus[k]\n",
    "    flujo_salida_inicio = gp.quicksum(\n",
    "        x[k, nodo_inicio[0], nodo_inicio[1], l_to, t_to]\n",
    "        for (l_from, t_from, l_to, t_to) in A_arcs\n",
    "        if l_from == nodo_inicio[0] and t_from == nodo_inicio[1]\n",
    "    )\n",
    "    m.addConstr(\n",
    "        flujo_salida_inicio == 1,\n",
    "        name=f\"Inicio_{k}\"\n",
    "    )\n",
    "\n",
    "# Restricciones de fin de los buses\n",
    "for k in K:\n",
    "    nodo_fin = nodo_fin_bus[k]\n",
    "    flujo_entrada_fin = gp.quicksum(\n",
    "        x[k, l_from, t_from, nodo_fin[0], nodo_fin[1]]\n",
    "        for (l_from, t_from, l_to, t_to) in A_arcs\n",
    "        if l_to == nodo_fin[0] and t_to == nodo_fin[1]\n",
    "    )\n",
    "    m.addConstr(\n",
    "        flujo_entrada_fin == 1,\n",
    "        name=f\"Fin_{k}\"\n",
    "    )\n"
   ]
  },
  {
   "cell_type": "markdown",
   "metadata": {},
   "source": [
    "### Resolución del modelo\n",
    "Finalmente, se resuelve el modelo utilizando Gurobi.\n"
   ]
  },
  {
   "cell_type": "code",
   "execution_count": 37,
   "metadata": {},
   "outputs": [
    {
     "name": "stdout",
     "output_type": "stream",
     "text": [
      "Gurobi Optimizer version 11.0.0 build v11.0.0rc2 (win64 - Windows 11+.0 (22631.2))\n",
      "\n",
      "CPU model: Intel(R) Core(TM) i5-9300H CPU @ 2.40GHz, instruction set [SSE2|AVX|AVX2]\n",
      "Thread count: 4 physical cores, 8 logical processors, using up to 8 threads\n",
      "\n",
      "Optimize a model with 1642 rows, 4467 columns and 11612 nonzeros\n",
      "Model fingerprint: 0x6fac6cf7\n",
      "Variable types: 192 continuous, 4275 integer (4275 binary)\n",
      "Coefficient statistics:\n",
      "  Matrix range     [1e+00, 1e+01]\n",
      "  Objective range  [1e+00, 1e+00]\n",
      "  Bounds range     [1e+00, 1e+00]\n",
      "  RHS range        [1e+00, 2e+01]\n",
      "Presolve removed 30 rows and 40 columns\n",
      "Presolve time: 0.02s\n",
      "Presolved: 1612 rows, 4427 columns, 11507 nonzeros\n",
      "Variable types: 0 continuous, 4427 integer (4334 binary)\n",
      "\n",
      "Root relaxation: objective 0.000000e+00, 3703 iterations, 0.24 seconds (0.23 work units)\n",
      "\n",
      "    Nodes    |    Current Node    |     Objective Bounds      |     Work\n",
      " Expl Unexpl |  Obj  Depth IntInf | Incumbent    BestBd   Gap | It/Node Time\n",
      "\n",
      "     0     0    0.00000    0    8          -    0.00000      -     -    0s\n",
      "H    0     0                       0.0000000    0.00000  0.00%     -    0s\n",
      "\n",
      "Explored 1 nodes (6816 simplex iterations) in 0.39 seconds (0.30 work units)\n",
      "Thread count was 8 (of 8 available processors)\n",
      "\n",
      "Solution count 1: 0 \n",
      "\n",
      "Optimal solution found (tolerance 1.00e-04)\n",
      "Best objective 0.000000000000e+00, best bound 0.000000000000e+00, gap 0.0000%\n"
     ]
    }
   ],
   "source": [
    "# Resolver el modelo\n",
    "m.optimize()"
   ]
  },
  {
   "cell_type": "markdown",
   "metadata": {},
   "source": [
    "## Resultados y visualización\n",
    "Se extraen los resultados óptimos, calculando la demanda no satisfecha y generando el programa de despacho para cada bus.\n"
   ]
  },
  {
   "cell_type": "code",
   "execution_count": 38,
   "metadata": {},
   "outputs": [
    {
     "name": "stdout",
     "output_type": "stream",
     "text": [
      "Demanda no satisfecha total: 0.0\n",
      "\n",
      "Programa de Despacho de Buses:\n",
      "      Bus      Desde      Hasta Hora Inicio Hora Fin\n",
      "0       0  Cabecera1  Cabecera1       05:20    05:30\n",
      "1       0  Cabecera1  Cabecera1       05:30    05:40\n",
      "2       0  Cabecera1  Cabecera1       07:00    07:10\n",
      "3       0  Cabecera1  Cabecera1       08:30    08:40\n",
      "4       0  Cabecera1  Cabecera1       09:00    09:10\n",
      "...   ...        ...        ...         ...      ...\n",
      "1106    4  Cabecera2      Patio       20:00    20:00\n",
      "1107    4  Cabecera1      Patio       20:10    20:10\n",
      "1108    4  Cabecera2      Patio       20:20    20:20\n",
      "1109    4  Cabecera1      Patio       20:40    20:40\n",
      "1110    4  Cabecera2      Patio       20:40    20:40\n",
      "\n",
      "[1111 rows x 5 columns]\n",
      "\n",
      "Demanda total: 2040\n",
      "Demanda atendida: 2040.0\n",
      "Kilómetros recorridos: 720\n",
      "IPK: 2.8333333333333335\n"
     ]
    }
   ],
   "source": [
    "if m.status == GRB.OPTIMAL:\n",
    "    # Demanda no satisfecha total\n",
    "    demanda_no_satisfecha_total = sum(y[l, t].X for l in L[:2] for t in T)\n",
    "    print(f\"Demanda no satisfecha total: {demanda_no_satisfecha_total}\")\n",
    "    \n",
    "    # Programa de Despacho de Buses\n",
    "    bus_schedule = []\n",
    "    \n",
    "    for k in K:\n",
    "        for (l_from, t_from, l_to, t_to) in A_arcs:\n",
    "            if x[k, l_from, t_from, l_to, t_to].X > 0.5:\n",
    "                hora_inicio_arco = hora_inicio + timedelta(minutes=t_from * delta_t)\n",
    "                hora_fin_arco = hora_inicio + timedelta(minutes=t_to * delta_t)\n",
    "                bus_schedule.append({\n",
    "                    'Bus': k,\n",
    "                    'Desde': l_from,\n",
    "                    'Hasta': l_to,\n",
    "                    'Hora Inicio': hora_inicio_arco.strftime(\"%H:%M\"),\n",
    "                    'Hora Fin': hora_fin_arco.strftime(\"%H:%M\")\n",
    "                })\n",
    "    \n",
    "    bus_schedule_df = pd.DataFrame(bus_schedule)\n",
    "    print(\"\\nPrograma de Despacho de Buses:\")\n",
    "    print(bus_schedule_df)\n",
    "    \n",
    "    # Cálculo de Métricas de Desempeño\n",
    "    # Demanda total y atendida\n",
    "    demanda_total = demanda_df['Demanda_Cabecera1'].sum() + demanda_df['Demanda_Cabecera2'].sum()\n",
    "    demanda_atendida = demanda_total - demanda_no_satisfecha_total\n",
    "    print(f\"\\nDemanda total: {demanda_total}\")\n",
    "    print(f\"Demanda atendida: {demanda_atendida}\")\n",
    "    \n",
    "    # Kilómetros recorridos e IPK\n",
    "    distancia_cabeceras = 20  # km (ajusta según corresponda)\n",
    "    kilometros_recorridos = 0\n",
    "    for index, row in bus_schedule_df.iterrows():\n",
    "        if (row['Desde'] == 'Cabecera1' and row['Hasta'] == 'Cabecera2') or (row['Desde'] == 'Cabecera2' and row['Hasta'] == 'Cabecera1'):\n",
    "            kilometros_recorridos += distancia_cabeceras\n",
    "    \n",
    "    ipk = demanda_atendida / kilometros_recorridos if kilometros_recorridos > 0 else 0\n",
    "    print(f\"Kilómetros recorridos: {kilometros_recorridos}\")\n",
    "    print(f\"IPK: {ipk}\")\n",
    "else:\n",
    "    print(\"No se encontró una solución óptima.\")\n"
   ]
  }
 ],
 "metadata": {
  "kernelspec": {
   "display_name": "Python 3",
   "language": "python",
   "name": "python3"
  },
  "language_info": {
   "codemirror_mode": {
    "name": "ipython",
    "version": 3
   },
   "file_extension": ".py",
   "mimetype": "text/x-python",
   "name": "python",
   "nbconvert_exporter": "python",
   "pygments_lexer": "ipython3",
   "version": "3.11.7"
  }
 },
 "nbformat": 4,
 "nbformat_minor": 2
}
